{
 "cells": [
  {
   "cell_type": "code",
   "execution_count": 2,
   "metadata": {},
   "outputs": [],
   "source": [
    "import sys\n",
    "sys.path.append('../Code')\n",
    "from utils import *\n",
    "from beakerx import *\n",
    "from beakerx.object import beakerx\n",
    "import statsmodels.regression.linear_model as sm"
   ]
  },
  {
   "cell_type": "markdown",
   "metadata": {},
   "source": [
    "# Replicating the PRF\n",
    "\n",
    "My conjecture is that the PRF has not done a good job of predicting returns in the past 10 years. To test this, I will use the strongest version of the PRF estimator found in the paper -- in particular I am going to use the price moving average (price minus 3y moving average of price) of the top 500 stocks in each period to predict one month ahead returns. For simplicity, in each period I just use the In this notebook you will be able to see\n",
    "\n",
    "1. The factor that's extracted month by month\n",
    "2. The time series of the returns over time\n",
    "3. A rough estimate of how the quality of the forecasts have changed over time.\n",
    "\n",
    "For the data, I use the CRSP tape going back to 1929 to June 2018 as well as the CRSP value weighted returns."
   ]
  },
  {
   "cell_type": "code",
   "execution_count": 8,
   "metadata": {},
   "outputs": [],
   "source": [
    "forecast_frame = pd.read_hdf('../Output/forecasts_3prf.h5')\n",
    "date_sequence = forecast_frame['datadate']"
   ]
  },
  {
   "cell_type": "markdown",
   "metadata": {},
   "source": [
    "## Visualizing the Factor"
   ]
  },
  {
   "cell_type": "code",
   "execution_count": 9,
   "metadata": {
    "scrolled": false
   },
   "outputs": [
    {
     "data": {
      "application/vnd.jupyter.widget-view+json": {
       "model_id": "642298d4cb4e4b309c25d2f04c927586",
       "version_major": 2,
       "version_minor": 0
      }
     },
     "metadata": {},
     "output_type": "display_data"
    }
   ],
   "source": [
    "plot = TimePlot(title = 'Return Factor', legendLayout=LegendLayout.HORIZONTAL,\\\n",
    "                      legendPosition=LegendPosition(position=LegendPosition.Position.TOP),\\\n",
    "                    initWidth = 1000)\n",
    "plot.add(Line(displayName = 'Return Factor (F)', \\\n",
    "              x = forecast_frame['datadate'],\\\n",
    "              y = forecast_frame['Factor']))"
   ]
  },
  {
   "cell_type": "markdown",
   "metadata": {},
   "source": [
    "## Trying to replicate their particular plot"
   ]
  },
  {
   "cell_type": "code",
   "execution_count": 10,
   "metadata": {},
   "outputs": [],
   "source": [
    "ROLL_WINDOW = int(40) # Number of years for rolling window\n",
    "MIN_WINDOW = int(10) # Number of years for minimum window"
   ]
  },
  {
   "cell_type": "code",
   "execution_count": 11,
   "metadata": {},
   "outputs": [],
   "source": [
    "from copy import copy\n",
    "\n",
    "def oos_by_split_date(dataframe, split_date):\n",
    "    before = dataframe.loc[dataframe['datadate'] < split_date, :]    \n",
    "    after = copy(dataframe.loc[dataframe['datadate'] >= split_date, :])\n",
    "    \n",
    "    if (before.shape[0] < MIN_WINDOW * 12) or (after.shape[0] < MIN_WINDOW * 12):\n",
    "        return np.nan\n",
    "    \n",
    "    sample_mean_before_date = before['Next Month Return'].mean()\n",
    "    factor_coef = sm.OLS(before['Next Month Return'], before[['Intercept', 'Factor']]).fit()\n",
    "\n",
    "    pred_3prf = factor_coef.predict(after[['Intercept', 'Factor']])\n",
    "    after.loc[:, '3PRF'] = pred_3prf\n",
    "    after.loc[:, 'Mean'] = sample_mean_before_date\n",
    "    mse_3prf = ((after.loc[:, '3PRF'] - after.loc[:, 'Next Month Return']) ** 2).mean()\n",
    "    mse_sample_mean = ((after.loc[:, 'Mean'] - after.loc[:, 'Next Month Return']) ** 2).mean()\n",
    "    oos_r2 = 1 - mse_3prf / mse_sample_mean\n",
    "    return oos_r2"
   ]
  },
  {
   "cell_type": "code",
   "execution_count": 12,
   "metadata": {
    "scrolled": true
   },
   "outputs": [],
   "source": [
    "data_used_in_paper = forecast_frame.loc[forecast_frame['datadate'] <= '2010-12-31']\n",
    "\n",
    "with Pool(4) as p:\n",
    "    forecast_frame['OOS By Split Date (Paper Sample)'] = p.map(lambda t: oos_by_split_date(data_used_in_paper, t), date_sequence)\n",
    "    forecast_frame['OOS By Split Date (2018 Sample)'] = p.map(lambda t: oos_by_split_date(forecast_frame, t), date_sequence)"
   ]
  },
  {
   "cell_type": "code",
   "execution_count": 14,
   "metadata": {},
   "outputs": [
    {
     "data": {
      "application/vnd.jupyter.widget-view+json": {
       "model_id": "2b6e0ef619234a7bbdeb5a24cdd93219",
       "version_major": 2,
       "version_minor": 0
      }
     },
     "metadata": {},
     "output_type": "display_data"
    }
   ],
   "source": [
    "forecast_frame.head()"
   ]
  },
  {
   "cell_type": "code",
   "execution_count": 15,
   "metadata": {
    "scrolled": false
   },
   "outputs": [
    {
     "data": {
      "application/vnd.jupyter.widget-view+json": {
       "model_id": "b01507bb1f7d4be999643a8500a89d91",
       "version_major": 2,
       "version_minor": 0
      }
     },
     "metadata": {},
     "output_type": "display_data"
    }
   ],
   "source": [
    "plot = TimePlot(title = 'OOS R2 (Direct Replication of Plot)', legendLayout=LegendLayout.HORIZONTAL,\\\n",
    "                      legendPosition=LegendPosition(position=LegendPosition.Position.TOP),\\\n",
    "                    initWidth = 1000)\n",
    "plot.add(Line(displayName = 'Through 2010', x = forecast_frame['datadate'], y = forecast_frame['OOS By Split Date (Paper Sample)']))\n",
    "plot.add(Line(displayName = 'Through 2018', x = forecast_frame['datadate'], y = forecast_frame['OOS By Split Date (2018 Sample)']))"
   ]
  },
  {
   "cell_type": "markdown",
   "metadata": {},
   "source": [
    "## A More Natural Recursive Updating Procedure"
   ]
  },
  {
   "cell_type": "code",
   "execution_count": 16,
   "metadata": {},
   "outputs": [],
   "source": [
    "# Now do the expanding and rolling forecasts\n",
    "\n",
    "def calculate_forecast_from_extracted_factor(data):    \n",
    "    yesterday = data[:-1]\n",
    "    today = data.tail(1)\n",
    "    reg = sm.OLS(yesterday['Next Month Return'], yesterday[['Factor', 'Intercept']]).fit()\n",
    "    return reg.predict(today[['Factor', 'Intercept']])[0]\n",
    "\n",
    "def rolling_forecast_on_date(dataframe, target_date, window, min_periods): \n",
    "    valid_dates = dataframe.loc[(dataframe['datadate'] <= target_date) & (dataframe['datadate'] >= target_date - pd.Timedelta(window, 'M'))]\n",
    "    if valid_dates.shape[0] < min_periods:\n",
    "        return np.nan\n",
    "    return calculate_forecast_from_extracted_factor(valid_dates)\n",
    "\n",
    "def expanding_forecast_on_date(dataframe, target_date, min_periods):\n",
    "    valid_dates = dataframe.loc[(dataframe['datadate'] <= target_date)]\n",
    "    if valid_dates.shape[0] < min_periods:\n",
    "        return np.nan\n",
    "    return calculate_forecast_from_extracted_factor(valid_dates)"
   ]
  },
  {
   "cell_type": "code",
   "execution_count": 17,
   "metadata": {},
   "outputs": [],
   "source": [
    "with Pool(4) as p:\n",
    "    forecast_frame['Rolling Forecast'] = p.map(lambda t: rolling_forecast_on_date(forecast_frame, t, ROLL_WINDOW * 12, MIN_WINDOW * 12), date_sequence)"
   ]
  },
  {
   "cell_type": "code",
   "execution_count": 18,
   "metadata": {},
   "outputs": [],
   "source": [
    "with Pool(4) as p:\n",
    "    forecast_frame['Expanding Forecast'] = p.map(lambda t: expanding_forecast_on_date(forecast_frame, t, MIN_WINDOW * 12), date_sequence)"
   ]
  },
  {
   "cell_type": "code",
   "execution_count": 19,
   "metadata": {},
   "outputs": [],
   "source": [
    "forecast_frame['Average So Far'] = forecast_frame['Next Month Return'].shift(1).expanding(MIN_WINDOW * 12).mean()"
   ]
  },
  {
   "cell_type": "code",
   "execution_count": 20,
   "metadata": {},
   "outputs": [
    {
     "data": {
      "application/vnd.jupyter.widget-view+json": {
       "model_id": "497f44211dfb4059a0ecad165804edca",
       "version_major": 2,
       "version_minor": 0
      }
     },
     "metadata": {},
     "output_type": "display_data"
    }
   ],
   "source": [
    "forecast_frame[['Rolling Forecast', 'Expanding Forecast', 'Average So Far', 'Next Month Return']].corr()"
   ]
  },
  {
   "cell_type": "code",
   "execution_count": 21,
   "metadata": {},
   "outputs": [],
   "source": [
    "forecast_frame['Expanding Forecast Error'] = (forecast_frame['Next Month Return'] - forecast_frame['Expanding Forecast']) ** 2\n",
    "forecast_frame['Rolling Forecast Error'] = (forecast_frame['Next Month Return'] - forecast_frame['Rolling Forecast']) ** 2\n",
    "forecast_frame['Sample Mean Error'] = (forecast_frame['Next Month Return'] - forecast_frame['Average So Far']) ** 2"
   ]
  },
  {
   "cell_type": "code",
   "execution_count": 22,
   "metadata": {},
   "outputs": [
    {
     "data": {
      "application/vnd.jupyter.widget-view+json": {
       "model_id": "e9aa6c35f2d04e6f89d57eb55241eff3",
       "version_major": 2,
       "version_minor": 0
      }
     },
     "metadata": {},
     "output_type": "display_data"
    }
   ],
   "source": [
    "plot = TimePlot(title = 'Expected Returns vs Actual', legendLayout=LegendLayout.HORIZONTAL,\\\n",
    "                      legendPosition=LegendPosition(position=LegendPosition.Position.TOP),\\\n",
    "                    initWidth = 1000)\n",
    "plot.add(Line(displayName = 'Expanding Forecast', \\\n",
    "              x = forecast_frame['datadate'],\\\n",
    "              y = forecast_frame['Expanding Forecast']))\n",
    "plot.add(Line(displayName = 'Rolling Forecast', \\\n",
    "              x = forecast_frame['datadate'],\\\n",
    "              y = forecast_frame['Rolling Forecast']))"
   ]
  },
  {
   "cell_type": "code",
   "execution_count": 23,
   "metadata": {},
   "outputs": [],
   "source": [
    "forecast_frame['Rolling 3PRF MSE'] = forecast_frame['Rolling Forecast Error'].rolling(MIN_WINDOW * 12).mean()\n",
    "forecast_frame['Expanding 3PRF MSE'] = forecast_frame['Expanding Forecast Error'].rolling(MIN_WINDOW * 12).mean()\n",
    "forecast_frame['Rolling Sample Mean MSE'] = forecast_frame['Sample Mean Error'].rolling(MIN_WINDOW * 12).mean()\n",
    "forecast_frame['Expanding Sample Mean MSE'] = forecast_frame['Sample Mean Error'].rolling(MIN_WINDOW * 12).mean()"
   ]
  },
  {
   "cell_type": "code",
   "execution_count": 24,
   "metadata": {},
   "outputs": [],
   "source": [
    "forecast_frame['OOS R Squared (Expanding)'] = 1 - forecast_frame['Expanding 3PRF MSE'] / forecast_frame['Expanding Sample Mean MSE']\n",
    "forecast_frame['OOS R Squared (Rolling)'] = 1 - forecast_frame['Rolling 3PRF MSE'] / forecast_frame['Rolling Sample Mean MSE']"
   ]
  },
  {
   "cell_type": "code",
   "execution_count": 25,
   "metadata": {},
   "outputs": [
    {
     "data": {
      "application/vnd.jupyter.widget-view+json": {
       "model_id": "a089fb07453448728d5a6ac08a7ec339",
       "version_major": 2,
       "version_minor": 0
      }
     },
     "metadata": {},
     "output_type": "display_data"
    }
   ],
   "source": [
    "plot = TimePlot(title = 'OOS R2', legendLayout=LegendLayout.HORIZONTAL,\\\n",
    "                      legendPosition=LegendPosition(position=LegendPosition.Position.TOP),\\\n",
    "                    initWidth = 1000)\n",
    "plot.add(Line(displayName = 'OOS Performance (Expanding)', \\\n",
    "              x = forecast_frame['datadate'],\\\n",
    "              y = forecast_frame['OOS R Squared (Expanding)']))\n",
    "plot.add(Line(displayName = 'OOS Performance (Rolling)', \\\n",
    "              x = forecast_frame['datadate'],\\\n",
    "              y = forecast_frame['OOS R Squared (Rolling)']))"
   ]
  },
  {
   "cell_type": "markdown",
   "metadata": {},
   "source": [
    "## Calculate a performance measure"
   ]
  },
  {
   "cell_type": "code",
   "execution_count": 50,
   "metadata": {},
   "outputs": [],
   "source": [
    "forecast_frame['Buy and Hold'] = 1\n",
    "FIXED_VAR = 0.2 ** 2\n",
    "\n",
    "forecast_frame['Implied Risk Aversion'] = forecast_frame['Average So Far'] / FIXED_VAR\n",
    "forecast_frame['Timing Strategy'] = forecast_frame['Expanding Forecast'] / forecast_frame['Implied Risk Aversion'] / FIXED_VAR\n",
    "forecast_frame.loc[forecast_frame['Timing Strategy'] > 2, 'Timing Strategy'] = 2\n",
    "forecast_frame.loc[forecast_frame['Timing Strategy'] < 0, 'Timing Strategy'] = 0"
   ]
  },
  {
   "cell_type": "code",
   "execution_count": 51,
   "metadata": {},
   "outputs": [
    {
     "data": {
      "application/vnd.jupyter.widget-view+json": {
       "model_id": "9b031d2729754091a7850b645d02f499",
       "version_major": 2,
       "version_minor": 0
      }
     },
     "metadata": {},
     "output_type": "display_data"
    }
   ],
   "source": [
    "plot = TimePlot(title = 'Positions from Timing Strategy', legendLayout=LegendLayout.HORIZONTAL,\\\n",
    "                      legendPosition=LegendPosition(position=LegendPosition.Position.TOP),\\\n",
    "                    initWidth = 1000)\n",
    "plot.add(Line(displayName = 'Timing Position', \\\n",
    "              x = forecast_frame['datadate'],\\\n",
    "              y = forecast_frame['Timing Strategy']))\n",
    "plot.add(ConstantLine(y = 1))"
   ]
  },
  {
   "cell_type": "code",
   "execution_count": 52,
   "metadata": {},
   "outputs": [],
   "source": [
    "forecast_frame['B&H Log Return'] = np.log(1 + forecast_frame['Buy and Hold'] * forecast_frame['Next Month Return'])\n",
    "forecast_frame['3PRF Log Return'] = np.log(1 + forecast_frame['Timing Strategy'] * forecast_frame['Next Month Return'])"
   ]
  },
  {
   "cell_type": "code",
   "execution_count": 53,
   "metadata": {},
   "outputs": [],
   "source": [
    "forecast_frame['B&H Cumulative Return'] = forecast_frame['B&H Log Return'].cumsum()\n",
    "forecast_frame['3PRF Cumulative Return'] = forecast_frame['3PRF Log Return'].cumsum()\n",
    "forecast_frame['B&H Cumulative Return'] = forecast_frame['B&H Cumulative Return'] - forecast_frame.loc[forecast_frame['datadate'] == '1970-01-31', 'B&H Cumulative Return']\n",
    "forecast_frame['3PRF Cumulative Return'] = forecast_frame['3PRF Cumulative Return'] - forecast_frame.loc[forecast_frame['datadate'] == '1970-01-31', '3PRF Cumulative Return']\n",
    "forecast_frame['Diff Return'] = forecast_frame['3PRF Cumulative Return'] - forecast_frame['B&H Cumulative Return']"
   ]
  },
  {
   "cell_type": "code",
   "execution_count": 54,
   "metadata": {},
   "outputs": [
    {
     "data": {
      "application/vnd.jupyter.widget-view+json": {
       "model_id": "03cbe87fc4d947f58c097d581604f52c",
       "version_major": 2,
       "version_minor": 0
      }
     },
     "metadata": {},
     "output_type": "display_data"
    }
   ],
   "source": [
    "plot = TimePlot(title = 'Cumulative Returns Since 1970', legendLayout=LegendLayout.HORIZONTAL,\\\n",
    "                      legendPosition=LegendPosition(position=LegendPosition.Position.TOP),\\\n",
    "                    initWidth = 1000)\n",
    "plot.add(Line(displayName = 'Market Timing', \\\n",
    "              x = forecast_frame['datadate'],\\\n",
    "              y = forecast_frame['3PRF Cumulative Return']))\n",
    "plot.add(Line(displayName = 'Buy and Hold', \\\n",
    "              x = forecast_frame['datadate'],\\\n",
    "              y = forecast_frame['B&H Cumulative Return']))"
   ]
  },
  {
   "cell_type": "code",
   "execution_count": 55,
   "metadata": {},
   "outputs": [
    {
     "data": {
      "application/vnd.jupyter.widget-view+json": {
       "model_id": "63c973fefe374863811f71525d0fa3e9",
       "version_major": 2,
       "version_minor": 0
      }
     },
     "metadata": {},
     "output_type": "display_data"
    }
   ],
   "source": [
    "plot = TimePlot(title = 'Difference in Cumulative Returns Since 1970', legendLayout=LegendLayout.HORIZONTAL,\\\n",
    "                      legendPosition=LegendPosition(position=LegendPosition.Position.TOP),\\\n",
    "                    initWidth = 1000)\n",
    "plot.add(Line(displayName = 'Market Timing - Buy and Hold', \\\n",
    "              x = forecast_frame['datadate'],\\\n",
    "              y = forecast_frame['Diff Return']))"
   ]
  }
 ],
 "metadata": {
  "kernelspec": {
   "display_name": "Python 3",
   "language": "python",
   "name": "python3"
  },
  "language_info": {
   "codemirror_mode": {
    "name": "ipython",
    "version": 3
   },
   "file_extension": ".py",
   "mimetype": "text/x-python",
   "name": "python",
   "nbconvert_exporter": "python",
   "pygments_lexer": "ipython3",
   "version": "3.7.1"
  },
  "toc": {
   "base_numbering": 1,
   "nav_menu": {},
   "number_sections": false,
   "sideBar": false,
   "skip_h1_title": false,
   "title_cell": "Table of Contents",
   "title_sidebar": "Contents",
   "toc_cell": false,
   "toc_position": {},
   "toc_section_display": false,
   "toc_window_display": false
  }
 },
 "nbformat": 4,
 "nbformat_minor": 2
}
