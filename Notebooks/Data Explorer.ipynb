{
 "cells": [
  {
   "cell_type": "markdown",
   "metadata": {},
   "source": [
    "# Data Explorer\n",
    "\n",
    "This document provides a way to explore the inner contents of the Compustat and CRSP datasets. You should use this tool before working iwth a particular variable to make sure that the data \"looks right\""
   ]
  },
  {
   "cell_type": "code",
   "execution_count": 1,
   "metadata": {},
   "outputs": [],
   "source": [
    "import pandas as pd\n",
    "from pandas.tseries.offsets import MonthEnd\n",
    "import numpy as np\n",
    "from beakerx import *\n",
    "from beakerx.object import beakerx\n",
    "import seaborn as sns\n",
    "import matplotlib.pyplot as plt\n",
    "import scipy as sci\n",
    "from copy import copy\n",
    "from IPython.display import HTML\n",
    "from multiprocessing import Pool, cpu_count\n",
    "import sys\n",
    "sys.path.append('../Code/')\n",
    "from utils import *"
   ]
  },
  {
   "cell_type": "code",
   "execution_count": 35,
   "metadata": {},
   "outputs": [
    {
     "data": {},
     "metadata": {},
     "output_type": "display_data"
    }
   ],
   "source": [
    "merged = pd.read_hdf('../Output/merged.h5')\n",
    "merged.head()"
   ]
  },
  {
   "cell_type": "markdown",
   "metadata": {},
   "source": [
    "## Some Utility Functions"
   ]
  },
  {
   "cell_type": "code",
   "execution_count": 4,
   "metadata": {},
   "outputs": [
    {
     "data": {},
     "metadata": {},
     "output_type": "display_data"
    }
   ],
   "source": [
    "def find_permcos(dataframe, ticker):\n",
    "    \"\"\"\n",
    "    Returns a dataframe with all the potential PERMCO's corresponding to the ticker. The dataframe is in sorted order, sorted by the date of the most recent observation for each company\n",
    "    \"\"\"\n",
    "    right_ticker = dataframe.loc[dataframe['Ticker'] == ticker]\n",
    "    right_ticker = right_ticker.safe_index(['Permco'])\n",
    "    possible = right_ticker.groupby(by = ['Permco']).last()\n",
    "    possible = possible.sort_values(['datadate'], ascending = False)\n",
    "    return possible\n",
    "\n",
    "def smart_permco(dataframe, ticker):\n",
    "    ret = find_permcos(dataframe, ticker)\n",
    "    return {'Permco': ret.index[0], 'Name': ret['Company Name.crsp'].values[0]}\n",
    "\n",
    "find_permcos(merged, 'FB')"
   ]
  },
  {
   "cell_type": "code",
   "execution_count": 5,
   "metadata": {},
   "outputs": [
    {
     "data": {
      "text/plain": [
       "{'Permco': 54084, 'Name': 'FACEBOOK INC'}"
      ]
     },
     "execution_count": 5,
     "metadata": {},
     "output_type": "execute_result"
    }
   ],
   "source": [
    "smart_permco(merged, 'FB')"
   ]
  },
  {
   "cell_type": "markdown",
   "metadata": {},
   "source": [
    "## Plotting Functions"
   ]
  },
  {
   "cell_type": "code",
   "execution_count": 22,
   "metadata": {},
   "outputs": [],
   "source": [
    "# Build a visualizer\n",
    "\n",
    "def simple_plot(dataframe, variable, plot_title, **kwargs):\n",
    "    \"\"\"\n",
    "    Makes a simple line plot of \"variable\" from dataframe.\n",
    "    \n",
    "    :param dataframe -- a dataframe with a multi-index, the second level of which is the date variable\n",
    "    :param variable -- the variable to plot\n",
    "    :param plot_title -- the title to use for the plot\n",
    "    \"\"\"\n",
    "    plot = TimePlot(title = plot_title, legendLayout=LegendLayout.HORIZONTAL,\\\n",
    "                          legendPosition=LegendPosition(position=LegendPosition.Position.TOP),\\\n",
    "                        initWidth = 500, **kwargs)\n",
    "    plot.add(Line(displayName = variable, \\\n",
    "                  x = dataframe.index.get_level_values(1),\\\n",
    "                  y = dataframe[variable]))\n",
    "    return plot\n",
    "\n",
    "def price_and_market_cap(dataframe, permco, company_name):\n",
    "    target_view = dataframe.xs(permco, level = 'Permco', drop_level = False)\n",
    "    \n",
    "    lg = GridOutputContainerLayoutManager(3)\n",
    "    og = OutputContainer()\n",
    "    og.setLayoutManager(lg)\n",
    "    og.addItem(simple_plot(target_view, 'Cumulative Return', 'Log Cumulative Return of ' + company_name))\n",
    "    og.addItem(simple_plot(target_view, 'Market Cap (Billions, CRSP)', 'Market Cap', logY = True, logYBase = np.exp(1)))\n",
    "    og.addItem(simple_plot(target_view, 'Volume (% of Market Cap, 3mma)', 'Volume as % of Market Cap'))\n",
    "    return og\n",
    "\n",
    "def smart(function):\n",
    "    def smart_function(dataframe, ticker):\n",
    "        guess = smart_permco(dataframe, ticker)\n",
    "        return function(dataframe, guess['Permco'], guess['Name'])\n",
    "    \n",
    "    return smart_function\n",
    "    "
   ]
  },
  {
   "cell_type": "code",
   "execution_count": 33,
   "metadata": {},
   "outputs": [
    {
     "data": {},
     "metadata": {},
     "output_type": "display_data"
    }
   ],
   "source": [
    "find_permcos(merged, 'FB')"
   ]
  },
  {
   "cell_type": "code",
   "execution_count": 32,
   "metadata": {},
   "outputs": [
    {
     "data": {
      "text/plain": [
       "GridView(children=(BeakerxHBox(children=(TimePlot(model={'chart_title': 'Log Cumulative Return of FACEBOOK INC…"
      ]
     },
     "metadata": {},
     "output_type": "display_data"
    }
   ],
   "source": [
    "smart(price_and_market_cap)(merged, 'FB')"
   ]
  },
  {
   "cell_type": "markdown",
   "metadata": {},
   "source": [
    "## Reconciling Compustat and CRSP Market Cap"
   ]
  },
  {
   "cell_type": "code",
   "execution_count": 9,
   "metadata": {},
   "outputs": [],
   "source": [
    "aapl = merged.xs(7, level = 'Permco', drop_level = False)"
   ]
  },
  {
   "cell_type": "code",
   "execution_count": 19,
   "metadata": {
    "scrolled": true
   },
   "outputs": [
    {
     "data": {
      "text/plain": [
       "GridView(children=(BeakerxHBox(children=(TimePlot(model={'chart_title': 'MICROSOFT CORP Market Cap Reconciliat…"
      ]
     },
     "metadata": {},
     "output_type": "display_data"
    }
   ],
   "source": [
    "def market_cap_reconciliation(dataframe, permco, company_name):\n",
    "    view = dataframe.xs(permco, level = 'Permco', drop_level = False)\n",
    "    plot = TimePlot(title = company_name + ' Market Cap Reconciliation', legendLayout=LegendLayout.HORIZONTAL,\\\n",
    "                              legendPosition=LegendPosition(position=LegendPosition.Position.TOP),\\\n",
    "                            logY = True,\n",
    "                            yLogBase = np.exp(1),\n",
    "                            initWidth = 700)\n",
    "    plot.add(Line(displayName = 'CRSP', \\\n",
    "                  x = view.index.get_level_values(1),\\\n",
    "                  y = view['Market Cap (Billions, CRSP)']))\n",
    "    plot.add(Line(displayName = 'Compustat', \\\n",
    "                  x = view.index.get_level_values(1),\\\n",
    "                  y = view['Market Cap (Compustat)']))\n",
    "    return plot\n",
    "\n",
    "def reconcile_list(dataframe, tickers):\n",
    "    lg = GridOutputContainerLayoutManager(3)\n",
    "    og = OutputContainer()\n",
    "    og.setLayoutManager(lg)\n",
    "    \n",
    "    for t in tickers:\n",
    "        og.addItem(smart(market_cap_reconciliation)(dataframe, t))\n",
    "        \n",
    "    return og\n",
    "\n",
    "def three_in_a_row(chart_function):\n",
    "    \n",
    "    def list_charter(dataframe, ticker_list):\n",
    "        lg = GridOutputContainerLayoutManager(3)\n",
    "        og = OutputContainer()\n",
    "        og.setLayoutManager(lg)\n",
    "        \n",
    "        for t in ticker_list:\n",
    "            og.addItem(chart_function(dataframe, t))\n",
    "        \n",
    "        return og\n",
    "    \n",
    "    return list_charter\n",
    "\n",
    "three_in_a_row(smart(market_cap_reconciliation))(merged, ['MSFT', 'AAPL', 'AMZN', 'FB', 'JNJ', 'V'])"
   ]
  },
  {
   "cell_type": "markdown",
   "metadata": {},
   "source": [
    "Clear that I'm not getting all the share classes right. But I think this is OK. The CRSP market cap is the right representation of how much is tradable."
   ]
  },
  {
   "cell_type": "markdown",
   "metadata": {},
   "source": [
    "## Making sure the returns look reasonable"
   ]
  },
  {
   "cell_type": "code",
   "execution_count": 34,
   "metadata": {
    "scrolled": true
   },
   "outputs": [
    {
     "data": {
      "text/plain": [
       "GridView(children=(BeakerxHBox(children=(TimePlot(model={'chart_title': 'DOW CHEMICAL CO', 'constant_bands': […"
      ]
     },
     "metadata": {},
     "output_type": "display_data"
    }
   ],
   "source": [
    "def return_plot(dataframe, permco, company_name):\n",
    "    return simple_plot(dataframe.xs(permco, level = 'Permco', drop_level = False), 'Cumulative Return', company_name)\n",
    "    \n",
    "three_in_a_row(smart(return_plot))(merged, ['DOW', 'AAPL', 'AMZN', 'FB', 'JNJ', 'V', 'NFLX', 'DAL', 'MMM'])"
   ]
  },
  {
   "cell_type": "code",
   "execution_count": null,
   "metadata": {},
   "outputs": [],
   "source": []
  },
  {
   "cell_type": "code",
   "execution_count": null,
   "metadata": {},
   "outputs": [],
   "source": []
  },
  {
   "cell_type": "code",
   "execution_count": null,
   "metadata": {},
   "outputs": [],
   "source": []
  },
  {
   "cell_type": "code",
   "execution_count": null,
   "metadata": {},
   "outputs": [],
   "source": []
  },
  {
   "cell_type": "code",
   "execution_count": null,
   "metadata": {},
   "outputs": [],
   "source": []
  },
  {
   "cell_type": "code",
   "execution_count": null,
   "metadata": {},
   "outputs": [],
   "source": []
  },
  {
   "cell_type": "code",
   "execution_count": null,
   "metadata": {},
   "outputs": [],
   "source": []
  },
  {
   "cell_type": "code",
   "execution_count": null,
   "metadata": {},
   "outputs": [],
   "source": []
  },
  {
   "cell_type": "code",
   "execution_count": null,
   "metadata": {},
   "outputs": [],
   "source": []
  },
  {
   "cell_type": "code",
   "execution_count": null,
   "metadata": {},
   "outputs": [],
   "source": []
  }
 ],
 "metadata": {
  "kernelspec": {
   "display_name": "Python 3",
   "language": "python",
   "name": "python3"
  },
  "language_info": {
   "codemirror_mode": {
    "name": "ipython",
    "version": 3
   },
   "file_extension": ".py",
   "mimetype": "text/x-python",
   "name": "python",
   "nbconvert_exporter": "python",
   "pygments_lexer": "ipython3",
   "version": "3.7.1"
  },
  "toc": {
   "base_numbering": 1.0,
   "nav_menu": {},
   "number_sections": false,
   "sideBar": false,
   "skip_h1_title": false,
   "title_cell": "Table of Contents",
   "title_sidebar": "Contents",
   "toc_cell": false,
   "toc_position": {},
   "toc_section_display": false,
   "toc_window_display": false
  }
 },
 "nbformat": 4,
 "nbformat_minor": 2
}
